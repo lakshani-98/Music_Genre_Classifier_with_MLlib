{
  "cells": [
    {
      "cell_type": "code",
      "execution_count": null,
      "metadata": {
        "colab": {
          "base_uri": "https://localhost:8080/"
        },
        "id": "g5JQuIcK9Q7T",
        "outputId": "e2d7344d-34a0-4723-f90e-7c032318551a"
      },
      "outputs": [],
      "source": [
        "pip install nltk"
      ]
    },
    {
      "cell_type": "code",
      "execution_count": null,
      "metadata": {
        "id": "wCg9Qopy8YrI"
      },
      "outputs": [],
      "source": [
        "import pandas as pd\n",
        "from pyspark.ml.feature import IndexToString\n",
        "from pyspark.sql import SparkSession\n",
        "from pyspark.sql.functions import col, lower, regexp_replace, explode, concat_ws, when\n",
        "from pyspark.ml import Pipeline\n",
        "from pyspark.ml.feature import StringIndexer, Tokenizer, StopWordsRemover, Word2Vec, VectorAssembler\n",
        "from pyspark.ml.classification import LogisticRegression\n",
        "from pyspark.sql.functions import collect_list\n",
        "from pyspark.ml.evaluation import MulticlassClassificationEvaluator\n",
        "from pyspark.sql import functions as F\n",
        "import nltk\n",
        "from nltk.stem import PorterStemmer\n",
        "from pyspark.sql.functions import udf\n",
        "from pyspark.sql.types import StringType\n",
        "from pyspark.sql.types import ArrayType, DoubleType\n",
        "from google.colab import drive\n",
        "import os"
      ]
    },
    {
      "cell_type": "code",
      "execution_count": null,
      "metadata": {
        "colab": {
          "base_uri": "https://localhost:8080/"
        },
        "id": "2k9ifx-eUwHC",
        "outputId": "ea7ae9ba-2632-4f81-f5c0-f7c357f43369"
      },
      "outputs": [
        {
          "name": "stdout",
          "output_type": "stream",
          "text": [
            "Mounted at /content/drive\n"
          ]
        }
      ],
      "source": [
        "drive.mount('/content/drive')"
      ]
    },
    {
      "cell_type": "markdown",
      "metadata": {
        "id": "RVeSKfw5HPh-"
      },
      "source": [
        "**Merge Datasets**"
      ]
    },
    {
      "cell_type": "code",
      "execution_count": null,
      "metadata": {
        "colab": {
          "base_uri": "https://localhost:8080/"
        },
        "id": "XYBymxNIHOdm",
        "outputId": "f4e358b1-a605-4597-e8bf-b20300dee159"
      },
      "outputs": [
        {
          "name": "stdout",
          "output_type": "stream",
          "text": [
            "Rows in merged dataset: 28472\n"
          ]
        }
      ],
      "source": [
        "df1 = pd.read_csv(\"/content/Mendeley_Dataset.csv\", encoding=\"ISO-8859-1\")\n",
        "df2 = pd.read_csv(\"/content/Student_Dataset.csv\", encoding=\"ISO-8859-1\")\n",
        "\n",
        "df2 = df2.reindex(columns=df1.columns)\n",
        "\n",
        "merged_df = pd.concat([df1, df2], ignore_index=True)\n",
        "\n",
        "print(\"Rows in merged dataset:\", len(merged_df))\n",
        "\n",
        "merged_df.to_csv(\"merged_dataset.csv\", index=False)"
      ]
    },
    {
      "cell_type": "code",
      "execution_count": null,
      "metadata": {
        "colab": {
          "base_uri": "https://localhost:8080/"
        },
        "id": "dzOiPIU9JQCh",
        "outputId": "31c0b5ab-6590-44ae-8650-9013bc56c190"
      },
      "outputs": [
        {
          "name": "stdout",
          "output_type": "stream",
          "text": [
            "Rows in df1: 28372\n",
            "Rows in df2: 100\n",
            "Rows in merged_df: 28472\n"
          ]
        }
      ],
      "source": [
        "print(\"Rows in df1:\", len(df1))\n",
        "print(\"Rows in df2:\", len(df2))\n",
        "print(\"Rows in merged_df:\", len(merged_df))"
      ]
    },
    {
      "cell_type": "code",
      "execution_count": null,
      "metadata": {
        "colab": {
          "base_uri": "https://localhost:8080/"
        },
        "id": "d2uvgcnDMYkJ",
        "outputId": "b2584718-b08b-4cef-89c2-bf345bedd112"
      },
      "outputs": [
        {
          "name": "stdout",
          "output_type": "stream",
          "text": [
            "root\n",
            " |-- id: string (nullable = true)\n",
            " |-- artist_name: string (nullable = true)\n",
            " |-- track_name: string (nullable = true)\n",
            " |-- release_date: string (nullable = true)\n",
            " |-- genre: string (nullable = true)\n",
            " |-- lyrics: string (nullable = true)\n",
            " |-- len: double (nullable = true)\n",
            " |-- dating: double (nullable = true)\n",
            " |-- violence: double (nullable = true)\n",
            " |-- world/life: double (nullable = true)\n",
            " |-- night/time: double (nullable = true)\n",
            " |-- shake the audience: double (nullable = true)\n",
            " |-- family/gospel: double (nullable = true)\n",
            " |-- romantic: double (nullable = true)\n",
            " |-- communication: double (nullable = true)\n",
            " |-- obscene: double (nullable = true)\n",
            " |-- music: double (nullable = true)\n",
            " |-- movement/places: double (nullable = true)\n",
            " |-- light/visual perceptions: double (nullable = true)\n",
            " |-- family/spiritual: double (nullable = true)\n",
            " |-- like/girls: double (nullable = true)\n",
            " |-- sadness: double (nullable = true)\n",
            " |-- feelings: double (nullable = true)\n",
            " |-- danceability: double (nullable = true)\n",
            " |-- loudness: double (nullable = true)\n",
            " |-- acousticness: double (nullable = true)\n",
            " |-- instrumentalness: double (nullable = true)\n",
            " |-- valence: double (nullable = true)\n",
            " |-- energy: double (nullable = true)\n",
            " |-- topic: string (nullable = true)\n",
            " |-- age: double (nullable = true)\n",
            "\n"
          ]
        }
      ],
      "source": [
        "file_path = \"/content/merged_dataset.csv\"\n",
        "df = spark.read.csv(file_path, header=True, inferSchema=True)\n",
        "\n",
        "df.printSchema()"
      ]
    },
    {
      "cell_type": "code",
      "execution_count": null,
      "metadata": {
        "id": "V4LUIYflujR0"
      },
      "outputs": [],
      "source": [
        "# Get the schema of the DataFrame to identify column data types\n",
        "data_types = df.dtypes\n",
        "\n",
        "# Initialize lists to store categorical and numerical column names\n",
        "categorical_columns = []\n",
        "numerical_columns = []\n",
        "\n",
        "for column, dtype in df.dtypes.items():\n",
        "    if dtype == 'object' or pd.api.types.is_categorical_dtype(dtype):\n",
        "        categorical_columns.append(column)\n",
        "    elif pd.api.types.is_numeric_dtype(dtype):\n",
        "        numerical_columns.append(column)\n",
        "\n",
        "# Output the results\n",
        "print(\"Categorical columns:\", categorical_columns)\n",
        "print(\"Numerical columns:\", numerical_columns)"
      ]
    },
    {
      "cell_type": "code",
      "execution_count": null,
      "metadata": {
        "colab": {
          "base_uri": "https://localhost:8080/"
        },
        "id": "2GoyaLpfasCz",
        "outputId": "c3fb89b9-e1dc-40aa-c4d2-d6a9269d2ca4"
      },
      "outputs": [
        {
          "name": "stdout",
          "output_type": "stream",
          "text": [
            "['pop' 'country' 'blues' 'jazz' 'reggae' 'rock' 'hip hop' 'shoegaze']\n"
          ]
        }
      ],
      "source": [
        "valid_genres = ['pop', 'country', 'blues', 'jazz', 'reggae', 'rock', 'hip hop', 'shoegaze']\n",
        "\n",
        "merged_df = merged_df[merged_df['genre'].isin(valid_genres)]\n",
        "\n",
        "print(merged_df['genre'].unique())"
      ]
    },
    {
      "cell_type": "markdown",
      "metadata": {
        "id": "oovtw4jO8-3D"
      },
      "source": [
        "**Data Preprocessing and Model Training**"
      ]
    },
    {
      "cell_type": "code",
      "execution_count": null,
      "metadata": {
        "id": "Ei48HX2n8Zg7"
      },
      "outputs": [],
      "source": [
        "# Initialize Spark Session\n",
        "spark = SparkSession.builder.appName(\"MusicGenreClassifications\").getOrCreate()\n",
        "\n",
        "stemmer = PorterStemmer()\n",
        "\n",
        "def apply_stem(word):\n",
        "    return stemmer.stem(word)\n",
        "\n",
        "stem_udf = udf(apply_stem, StringType())\n",
        "\n",
        "file_path = \"/content/merged_dataset.csv\"\n",
        "df = spark.read.csv(file_path, header=True, inferSchema=True)\n",
        "\n",
        "# Cleanser: Remove punctuation & special characters, convert to lowercase\n",
        "df = df.withColumn(\"lyrics\", F.lower(F.col(\"lyrics\")))\n",
        "df = df.withColumn(\"lyrics\", F.regexp_replace(F.col(\"lyrics\"), \"[^a-zA-Z\\\\s]\", \"\"))\n",
        "\n",
        "# Handle null or empty lyrics\n",
        "df = df.withColumn(\"lyrics\", when(col(\"lyrics\").isNull(), \"\").otherwise(col(\"lyrics\")))\n",
        "\n",
        "# Index genre column\n",
        "indexer_genre = StringIndexer(inputCol=\"genre\", outputCol=\"genre_index\")\n",
        "\n",
        "# Tokenizer: Split lyrics into words\n",
        "tokenizer = Tokenizer(inputCol=\"lyrics\", outputCol=\"words\")\n",
        "\n",
        "# StopWordsRemover: Remove common stopwords\n",
        "remover = StopWordsRemover(inputCol=\"words\", outputCol=\"filtered_words\")\n",
        "\n",
        "# Define a function to preprocess lyrics\n",
        "def preprocess_lyrics(df):\n",
        "  exploder = tokenizer.transform(df)\n",
        "  exploder = remover.transform(exploder)\n",
        "  exploder = exploder.withColumn(\"word\", explode(col(\"filtered_words\")))\n",
        "  stemmer = exploder.withColumn(\"stemmed_word\", stem_udf(F.col(\"word\")))\n",
        "  uniter = stemmer.groupBy(\"lyrics\", \"genre\").agg(F.collect_list(\"stemmed_word\").alias(\"processed_lyrics\"))\n",
        "  return uniter\n",
        "\n",
        "df = preprocess_lyrics(df)\n",
        "\n",
        "# Drop unnecessary columns\n",
        "df = df.drop(\"id\", \"track_name\", \"artist_name\", \"len\", \"topic\", \"release_date\")\n",
        "numerical_columns = ['dating', 'violence', 'world/life', 'night/time',\n",
        "                     'shake the audience', 'family/gospel', 'romantic', 'communication', 'obscene', 'music',\n",
        "                     'movement/places', 'light/visual perceptions', 'family/spiritual', 'like/girls',\n",
        "                     'sadness', 'feelings', 'danceability', 'loudness', 'acousticness', 'instrumentalness',\n",
        "                     'valence', 'energy', 'age', '_c0']\n",
        "df = df.drop(*numerical_columns)\n",
        "\n",
        "# Verser: Convert processed lyrics into numerical representation\n",
        "word2Vec = Word2Vec(vectorSize=300, minCount=1, inputCol=\"processed_lyrics\", outputCol=\"lyrics_vector\")\n",
        "\n",
        "# Combine features\n",
        "input_cols = ['lyrics_vector']\n",
        "\n",
        "assembler = VectorAssembler(inputCols=input_cols, outputCol=\"features\")\n",
        "\n",
        "# Logistic Regression Model\n",
        "lr = LogisticRegression(\n",
        "    labelCol=\"genre_index\",\n",
        "    featuresCol=\"features\",\n",
        "    elasticNetParam=0,\n",
        "    threshold=1\n",
        ")\n",
        "\n",
        "# Build Pipeline\n",
        "pipeline = Pipeline(stages=[indexer_genre, word2Vec, assembler, lr])\n",
        "\n",
        "# Train-Test Split\n",
        "train_df, test_df = df.randomSplit([0.8, 0.2], seed=42)\n",
        "\n",
        "# Train Model\n",
        "model = pipeline.fit(train_df)"
      ]
    },
    {
      "cell_type": "code",
      "execution_count": null,
      "metadata": {
        "colab": {
          "base_uri": "https://localhost:8080/"
        },
        "id": "NX-AD_HIVI-9",
        "outputId": "cb3fd7f1-389b-4ace-dccd-b58d57de824b"
      },
      "outputs": [
        {
          "name": "stdout",
          "output_type": "stream",
          "text": [
            "Model saved to /content/drive/MyDrive/Colab Notebooks/Logistic Regression Model\n"
          ]
        }
      ],
      "source": [
        "model_save_path = '/content/drive/MyDrive/Colab Notebooks/Logistic Regression Model'\n",
        "\n",
        "os.makedirs(os.path.dirname(model_save_path), exist_ok=True)\n",
        "\n",
        "model.write().overwrite().save(model_save_path)\n",
        "print(f\"Model saved to {model_save_path}\")"
      ]
    },
    {
      "cell_type": "code",
      "execution_count": null,
      "metadata": {
        "id": "-7ZfPWdT-BEV"
      },
      "outputs": [],
      "source": [
        "# Get the StringIndexer model from the pipeline\n",
        "indexer_model = model.stages[0]\n",
        "\n",
        "# Get the genre-to-index mapping\n",
        "genre_mapping = dict(enumerate(indexer_model.labels))\n",
        "print(\"Genre to Index Mapping:\", genre_mapping)"
      ]
    },
    {
      "cell_type": "markdown",
      "metadata": {
        "id": "t27gk8P69FfI"
      },
      "source": [
        "**Testing and Evaluation**"
      ]
    },
    {
      "cell_type": "code",
      "execution_count": null,
      "metadata": {
        "id": "8znM-GDf8oMo"
      },
      "outputs": [],
      "source": [
        "# Predictions\n",
        "predictions = model.transform(test_df)\n",
        "\n",
        "# Convert Predictions to Genre Labels\n",
        "genreIndexerModel = indexer_genre.fit(train_df)\n",
        "indexToString = IndexToString(inputCol=\"prediction\", outputCol=\"predicted_genre\", labels=genreIndexerModel.labels)\n",
        "predictions_with_genre = indexToString.transform(predictions)\n",
        "\n",
        "# Show Final Predictions\n",
        "predictions_with_genre.select(\"genre\", \"predicted_genre\").show()"
      ]
    },
    {
      "cell_type": "code",
      "execution_count": null,
      "metadata": {
        "id": "Q2PRE-cX8unj"
      },
      "outputs": [],
      "source": [
        "# Initialize the evaluator for accuracy and F1 score\n",
        "evaluator_accuracy = MulticlassClassificationEvaluator(labelCol=\"genre_index\", predictionCol=\"prediction\", metricName=\"accuracy\")\n",
        "evaluator_f1 = MulticlassClassificationEvaluator(labelCol=\"genre_index\", predictionCol=\"prediction\", metricName=\"f1\")\n",
        "\n",
        "if 'genre_index' in predictions_with_genre.columns:\n",
        "    accuracy = evaluator_accuracy.evaluate(predictions_with_genre)\n",
        "    f1_score = evaluator_f1.evaluate(predictions_with_genre)\n",
        "\n",
        "    # Print the evaluation metrics\n",
        "    print(f\"Model Accuracy: {accuracy}\")\n",
        "    print(f\"Model F1 Score: {f1_score}\")\n",
        "else:\n",
        "    print(\"Error: genre_index column is missing in the predictions DataFrame.\")"
      ]
    },
    {
      "cell_type": "markdown",
      "metadata": {
        "id": "ryZL_zYn9LFq"
      },
      "source": [
        "**Predict Genre for Lyrics**"
      ]
    },
    {
      "cell_type": "code",
      "execution_count": null,
      "metadata": {
        "id": "6ZB9cpQY81j-"
      },
      "outputs": [],
      "source": [
        "# Prediction function with class labels and probabilities\n",
        "def predict_genre_with_probabilities(model, input_lyrics):\n",
        "    input_df = spark.createDataFrame([(input_lyrics,)], [\"lyrics\"])\n",
        "\n",
        "    input_df = input_df.withColumn(\"lyrics\", F.lower(F.col(\"lyrics\")))\n",
        "    input_df = input_df.withColumn(\"lyrics\", F.regexp_replace(F.col(\"lyrics\"), \"[^a-zA-Z\\\\s]\", \"\"))\n",
        "\n",
        "    input_df = tokenizer.transform(input_df)\n",
        "    input_df = remover.transform(input_df)\n",
        "    input_df = input_df.withColumn(\"word\", explode(F.col(\"filtered_words\")))\n",
        "    input_df = input_df.withColumn(\"stemmed_word\", stem_udf(F.col(\"word\")))\n",
        "    input_df = input_df.groupBy(\"lyrics\").agg(F.collect_list(\"stemmed_word\").alias(\"processed_lyrics\"))\n",
        "\n",
        "    prediction_df = model.transform(input_df)\n",
        "\n",
        "    prediction_df = prediction_df.select(\"probability\")\n",
        "\n",
        "    def extract_probabilities(probabilities):\n",
        "        return probabilities.toArray().tolist()\n",
        "\n",
        "    extract_probabilities_udf = udf(extract_probabilities, ArrayType(DoubleType()))\n",
        "\n",
        "    prediction_df = prediction_df.withColumn(\"probabilities\", extract_probabilities_udf(F.col(\"probability\")))\n",
        "\n",
        "    genre_classes = ['pop', 'country', 'blues', 'rock', 'jazz', 'reggae', 'hip hop']\n",
        "\n",
        "    def map_genres(probabilities):\n",
        "        return [(genre_classes[i], probabilities[i]) for i in range(len(probabilities))]\n",
        "\n",
        "    map_genres_udf = udf(map_genres, ArrayType(ArrayType(StringType())))\n",
        "\n",
        "    prediction_df = prediction_df.withColumn(\"genre_probabilities\", map_genres_udf(F.col(\"probabilities\")))\n",
        "\n",
        "    return prediction_df.select(\"genre_probabilities\").collect()\n"
      ]
    },
    {
      "cell_type": "code",
      "execution_count": null,
      "metadata": {
        "id": "cVzSYay083TH"
      },
      "outputs": [],
      "source": [
        "# Example of how to use the prediction function\n",
        "input_lyrics = \"My friend Goo has a real tattoo She always knows just what to do She looks through her hair like she doesn't careWhat she does best is stand and stare\"\n",
        "predictions = predict_genre_with_probabilities(model, input_lyrics)\n",
        "\n",
        "# Display the predicted probabilities\n",
        "for row in predictions:\n",
        "    print(row)"
      ]
    }
  ],
  "metadata": {
    "colab": {
      "provenance": []
    },
    "kernelspec": {
      "display_name": "Python 3",
      "name": "python3"
    },
    "language_info": {
      "name": "python"
    }
  },
  "nbformat": 4,
  "nbformat_minor": 0
}
